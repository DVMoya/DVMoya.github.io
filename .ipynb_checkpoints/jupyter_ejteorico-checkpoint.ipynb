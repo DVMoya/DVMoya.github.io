{
 "cells": [
  {
   "cell_type": "markdown",
   "id": "0d539f0c",
   "metadata": {},
   "source": [
    "## Programa para calcular el producto de una matriz _M_ por un número entero _n_.\n",
    "\n",
    "    Comenzaremos por pedirle al usuario el número entero 'n'."
   ]
  },
  {
   "cell_type": "code",
   "execution_count": 1,
   "id": "1deb5d1c",
   "metadata": {},
   "outputs": [
    {
     "name": "stdout",
     "output_type": "stream",
     "text": [
      "Introduce un número entero: 2\n"
     ]
    }
   ],
   "source": [
    "n = int(input('Introduce un número entero: '))"
   ]
  },
  {
   "cell_type": "markdown",
   "id": "63077fe0",
   "metadata": {},
   "source": [
    "    Ahora que tenemos el número entero necesitamos la matriz. Esta será introducida por el usuario, para ello le pediremos, antes de formar la matriz, el número de filas y columnas que tendrá."
   ]
  },
  {
   "cell_type": "code",
   "execution_count": 2,
   "id": "7ef6d26e",
   "metadata": {},
   "outputs": [
    {
     "name": "stdout",
     "output_type": "stream",
     "text": [
      "Introduce el número de filas de la matriz: 3\n",
      "Introduce el número de columnas de la matriz: 3\n"
     ]
    }
   ],
   "source": [
    "filas = int(input('Introduce el número de filas de la matriz: '))\n",
    "columnas = int(input('Introduce el número de columnas de la matriz: '))"
   ]
  },
  {
   "cell_type": "markdown",
   "id": "27d25bbb",
   "metadata": {},
   "source": [
    "    Con los datos que tiene el programa ahora mismo, puede formar una matriz nula a la que luego le sustituira los ceros por los números enteros que desee el usuario.\n",
    "    No nos debemos olvidar de crear primero una lista vacía para formar la matriz."
   ]
  },
  {
   "cell_type": "code",
   "execution_count": 3,
   "id": "175a5d8a",
   "metadata": {},
   "outputs": [],
   "source": [
    "M=[] # Esta es la lista vacía que se convertirá en la matriz\n",
    "\n",
    "for i in range(filas): # Con esto se forma la matriz nula de orden: 'filas x columnas'\n",
    "    M.append([0]*columnas)"
   ]
  },
  {
   "cell_type": "markdown",
   "id": "e2c169e9",
   "metadata": {},
   "source": [
    "    Con la matriz nula formada, el programa ya puede pedirle al usuario los valores a tomar en cada posición de la matríz.\n",
    "    Para que el usuario pueda seguir el programa, le mostraremos de en qué posición se encuntra cada vez que introduzca un  nuevo valor."
   ]
  },
  {
   "cell_type": "code",
   "execution_count": 4,
   "id": "2410a4f9",
   "metadata": {},
   "outputs": [
    {
     "name": "stdout",
     "output_type": "stream",
     "text": [
      "Introduzca el valor de la fila 0 columna 0: 1\n",
      "Introduzca el valor de la fila 0 columna 1: 2\n",
      "Introduzca el valor de la fila 0 columna 2: 3\n",
      "Introduzca el valor de la fila 1 columna 0: 2\n",
      "Introduzca el valor de la fila 1 columna 1: 3\n",
      "Introduzca el valor de la fila 1 columna 2: 1\n",
      "Introduzca el valor de la fila 2 columna 0: 3\n",
      "Introduzca el valor de la fila 2 columna 1: 1\n",
      "Introduzca el valor de la fila 2 columna 2: 2\n"
     ]
    }
   ],
   "source": [
    "for i in range(filas):\n",
    "    for j in range(columnas):\n",
    "        M[i][j]=int(input('Introduzca el valor de la fila {0} columna {1}: '.format(i, j)))"
   ]
  },
  {
   "cell_type": "markdown",
   "id": "1d793895",
   "metadata": {},
   "source": [
    "    Ya tenemos todo lo que necesitamos para hacer el producto.\n",
    "    El producto de una matriz por un número se basa en multiplicar cada valor de la matriz por ese número para generar una  nueva matriz (el resultado del producto).\n",
    "    Para mostrar la nueva matriz solo hace falta imprimir las filas."
   ]
  },
  {
   "cell_type": "code",
   "execution_count": 5,
   "id": "27f90de1",
   "metadata": {},
   "outputs": [
    {
     "name": "stdout",
     "output_type": "stream",
     "text": [
      "[2, 4, 6]\n",
      "[4, 6, 2]\n",
      "[6, 2, 4]\n"
     ]
    }
   ],
   "source": [
    "for i in range(filas):\n",
    "    for j in range(columnas):\n",
    "        M[i][j]*=n\n",
    "\n",
    "for i in range(filas):\n",
    "    print(M[i])"
   ]
  },
  {
   "cell_type": "markdown",
   "id": "50350233",
   "metadata": {},
   "source": [
    "    Todo junto quedaría:"
   ]
  },
  {
   "cell_type": "code",
   "execution_count": 6,
   "id": "f45ac5b5",
   "metadata": {},
   "outputs": [
    {
     "name": "stdout",
     "output_type": "stream",
     "text": [
      "Introduce un número entero: 2\n",
      "Introduce el número de filas de la matriz: 3\n",
      "Introduce el número de columnas de la matriz: 3\n",
      "Introduzca el valor de la fila 0 columna 0: 1\n",
      "Introduzca el valor de la fila 0 columna 1: 2\n",
      "Introduzca el valor de la fila 0 columna 2: 3\n",
      "Introduzca el valor de la fila 1 columna 0: 2\n",
      "Introduzca el valor de la fila 1 columna 1: 3\n",
      "Introduzca el valor de la fila 1 columna 2: 1\n",
      "Introduzca el valor de la fila 2 columna 0: 3\n",
      "Introduzca el valor de la fila 2 columna 1: 1\n",
      "Introduzca el valor de la fila 2 columna 2: 2\n",
      "[2, 4, 6]\n",
      "[4, 6, 2]\n",
      "[6, 2, 4]\n"
     ]
    }
   ],
   "source": [
    "n = int(input('Introduce un número entero: '))\n",
    "\n",
    "filas = int(input('Introduce el número de filas de la matriz: '))\n",
    "columnas = int(input('Introduce el número de columnas de la matriz: '))\n",
    "\n",
    "M=[]\n",
    "\n",
    "for i in range(filas):\n",
    "    M.append([0]*columnas)\n",
    "\n",
    "for i in range(filas):\n",
    "    for j in range(columnas):\n",
    "        M[i][j]=int(input('Introduzca el valor de la fila {0} columna {1}: '.format(i, j)))\n",
    "        \n",
    "for i in range(filas):\n",
    "    for j in range(columnas):\n",
    "        M[i][j]*=n\n",
    "\n",
    "for i in range(filas):\n",
    "    print(M[i])"
   ]
  },
  {
   "cell_type": "markdown",
   "id": "368e93c2",
   "metadata": {},
   "source": [
    "    Para finalizar este proyecto vamos a ponerlo todo un poco más elegante.\n",
    "\n",
    "    Los dos bucles andidados pueden juntarse al primer bucle, ya que no afectan los procedimientos que sigue el usuario,    además de esto añadamos también saltos de línea y explicaciones para que se vea todo mejor organizado."
   ]
  },
  {
   "cell_type": "code",
   "execution_count": 7,
   "id": "1c436b28",
   "metadata": {},
   "outputs": [
    {
     "name": "stdout",
     "output_type": "stream",
     "text": [
      "Programa para calcular el producto de una matriz dada con un número entero dado.\n",
      "\n",
      "Introduce un número entero: 2\n",
      "\n",
      "Introduce el número de filas de la matriz: 3\n",
      "Introduce el número de columnas de la matriz: 3\n",
      "Introduzca el valor de la fila 0 columna 0: 1\n",
      "Introduzca el valor de la fila 0 columna 1: 2\n",
      "Introduzca el valor de la fila 0 columna 2: 3\n",
      "Introduzca el valor de la fila 1 columna 0: 2\n",
      "Introduzca el valor de la fila 1 columna 1: 3\n",
      "Introduzca el valor de la fila 1 columna 2: 1\n",
      "Introduzca el valor de la fila 2 columna 0: 3\n",
      "Introduzca el valor de la fila 2 columna 1: 1\n",
      "Introduzca el valor de la fila 2 columna 2: 2\n",
      "\n",
      "El producto de la matriz dada con 2 es:\n",
      "  [2, 4, 6]\n",
      "  [4, 6, 2]\n",
      "  [6, 2, 4]\n"
     ]
    }
   ],
   "source": [
    "print('Programa para calcular el producto de una matriz dada con un número entero dado.\\n')\n",
    "\n",
    "n = int(input('Introduce un número entero: '))\n",
    "filas = int(input('\\nIntroduce el número de filas de la matriz: '))\n",
    "columnas = int(input('Introduce el número de columnas de la matriz: '))\n",
    "\n",
    "M=[]\n",
    "\n",
    "for i in range(filas):\n",
    "    M.append([0]*columnas)\n",
    "    for j in range(columnas):\n",
    "        M[i][j]=int(input('Introduzca el valor de la fila {0} columna {1}: '.format(i, j)))*n\n",
    "\n",
    "print('\\nEl producto de la matriz dada con {0} es:'.format(n))\n",
    "for i in range(filas):\n",
    "    print(' ', M[i])"
   ]
  },
  {
   "cell_type": "markdown",
   "id": "5bc3665c",
   "metadata": {},
   "source": [
    "    Y con esto ya tenemos el programa terminado.\n",
    "    \n",
    "    Como última observación cabe decir que hay varias maneras de mostrar en la pantalla la matriz resultante, la forma que  he elegido yo la he elegido por comodidad.\n"
   ]
  },
  {
   "cell_type": "markdown",
   "id": "d130d4d3",
   "metadata": {},
   "source": [
    " "
   ]
  }
 ],
 "metadata": {
  "kernelspec": {
   "display_name": "Python 3",
   "language": "python",
   "name": "python3"
  },
  "language_info": {
   "codemirror_mode": {
    "name": "ipython",
    "version": 3
   },
   "file_extension": ".py",
   "mimetype": "text/x-python",
   "name": "python",
   "nbconvert_exporter": "python",
   "pygments_lexer": "ipython3",
   "version": "3.8.8"
  }
 },
 "nbformat": 4,
 "nbformat_minor": 5
}
